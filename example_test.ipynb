{
 "cells": [
  {
   "cell_type": "code",
   "execution_count": 1,
   "metadata": {},
   "outputs": [],
   "source": [
    "from iit import generate_data\n",
    "from model import TorchDeepNeuralClassifier\n",
    "import numpy as np\n",
    "import torch"
   ]
  },
  {
   "cell_type": "code",
   "execution_count": 2,
   "metadata": {},
   "outputs": [],
   "source": [
    "vals = ['zero', 'one', 'two', 'three', 'four',\n",
    "       'five', 'six', 'seven', 'eight', 'nine']\n",
    "\n",
    "X, y = generate_data(vals, 10000)"
   ]
  },
  {
   "cell_type": "code",
   "execution_count": 3,
   "metadata": {},
   "outputs": [
    {
     "data": {
      "text/plain": [
       "[['seven', 'two', 'six'],\n",
       " ['six', 'one', 'one'],\n",
       " ['five', 'zero', 'six'],\n",
       " ['two', 'eight', 'four'],\n",
       " ['eight', 'one', 'two']]"
      ]
     },
     "execution_count": 3,
     "metadata": {},
     "output_type": "execute_result"
    }
   ],
   "source": [
    "X[:5]"
   ]
  },
  {
   "cell_type": "code",
   "execution_count": 4,
   "metadata": {},
   "outputs": [
    {
     "data": {
      "text/plain": [
       "[56, 12, 30, 24, 24]"
      ]
     },
     "execution_count": 4,
     "metadata": {},
     "output_type": "execute_result"
    }
   ],
   "source": [
    "y[:5]"
   ]
  },
  {
   "cell_type": "markdown",
   "metadata": {},
   "source": [
    "Training a feed-forward network using randomized embeddings."
   ]
  },
  {
   "cell_type": "code",
   "execution_count": 5,
   "metadata": {},
   "outputs": [],
   "source": [
    "output_size = 163\n",
    "num_inputs = 3\n",
    "num_layers = 2\n",
    "embed_dim = 15\n",
    "\n",
    "mod = TorchDeepNeuralClassifier(vals, output_size, num_inputs, num_layers, embed_dim)"
   ]
  },
  {
   "cell_type": "code",
   "execution_count": 6,
   "metadata": {},
   "outputs": [
    {
     "name": "stderr",
     "output_type": "stream",
     "text": [
      "Stopping after epoch 866. Training loss did not improve more than tol=1e-05. Final error is 0.0012900984002044424."
     ]
    },
    {
     "data": {
      "text/plain": [
       "TorchDeepNeuralClassifier(\n",
       "\tbatch_size=1028,\n",
       "\tmax_iter=1000,\n",
       "\teta=0.001,\n",
       "\toptimizer_class=<class 'torch.optim.adam.Adam'>,\n",
       "\tl2_strength=0,\n",
       "\tgradient_accumulation_steps=1,\n",
       "\tmax_grad_norm=None,\n",
       "\tvalidation_fraction=0.1,\n",
       "\tearly_stopping=False,\n",
       "\tn_iter_no_change=10,\n",
       "\twarm_start=False,\n",
       "\ttol=1e-05,\n",
       "\thidden_dim=50,\n",
       "\thidden_activation=Tanh(),\n",
       "\tnum_layers=2)"
      ]
     },
     "execution_count": 6,
     "metadata": {},
     "output_type": "execute_result"
    }
   ],
   "source": [
    "mod.fit(X, y)"
   ]
  },
  {
   "cell_type": "code",
   "execution_count": 7,
   "metadata": {},
   "outputs": [],
   "source": [
    "X_test, y_test = generate_data(vals, 1000)"
   ]
  },
  {
   "cell_type": "code",
   "execution_count": 8,
   "metadata": {},
   "outputs": [
    {
     "name": "stdout",
     "output_type": "stream",
     "text": [
      "\n",
      "Classification report:\n",
      "              precision    recall  f1-score   support\n",
      "\n",
      "           0       1.00      1.00      1.00       131\n",
      "           1       1.00      1.00      1.00         4\n",
      "           2       1.00      1.00      1.00         6\n",
      "           3       1.00      1.00      1.00         9\n",
      "           4       1.00      1.00      1.00        15\n",
      "           5       1.00      1.00      1.00         9\n",
      "           6       1.00      1.00      1.00        14\n",
      "           7       1.00      1.00      1.00        15\n",
      "           8       1.00      1.00      1.00        33\n",
      "           9       1.00      1.00      1.00        20\n",
      "          10       1.00      1.00      1.00        12\n",
      "          11       1.00      1.00      1.00         5\n",
      "          12       1.00      1.00      1.00        29\n",
      "          13       1.00      1.00      1.00         6\n",
      "          14       1.00      1.00      1.00        19\n",
      "          15       1.00      1.00      1.00        17\n",
      "          16       1.00      1.00      1.00        29\n",
      "          18       1.00      1.00      1.00        29\n",
      "          20       1.00      1.00      1.00        16\n",
      "          21       1.00      1.00      1.00        12\n",
      "          22       1.00      1.00      1.00         7\n",
      "          24       1.00      1.00      1.00        40\n",
      "          25       1.00      1.00      1.00         9\n",
      "          26       1.00      1.00      1.00        10\n",
      "          27       1.00      1.00      1.00         9\n",
      "          28       1.00      1.00      1.00        24\n",
      "          30       1.00      1.00      1.00        39\n",
      "          32       1.00      1.00      1.00        21\n",
      "          33       1.00      1.00      1.00         7\n",
      "          35       1.00      1.00      1.00        19\n",
      "          36       1.00      1.00      1.00        33\n",
      "          39       1.00      1.00      1.00         6\n",
      "          40       1.00      1.00      1.00        34\n",
      "          42       1.00      1.00      1.00        26\n",
      "          44       1.00      1.00      1.00         7\n",
      "          45       1.00      1.00      1.00        12\n",
      "          48       1.00      1.00      1.00        37\n",
      "          49       1.00      1.00      1.00        19\n",
      "          50       1.00      1.00      1.00         6\n",
      "          52       1.00      1.00      1.00         8\n",
      "          54       1.00      1.00      1.00         5\n",
      "          55       1.00      1.00      1.00        10\n",
      "          56       1.00      1.00      1.00        19\n",
      "          60       1.00      1.00      1.00        19\n",
      "          63       1.00      1.00      1.00         7\n",
      "          64       1.00      1.00      1.00         8\n",
      "          65       1.00      1.00      1.00         8\n",
      "          66       1.00      1.00      1.00         6\n",
      "          70       1.00      1.00      1.00        11\n",
      "          72       1.00      1.00      1.00        20\n",
      "          75       1.00      1.00      1.00         1\n",
      "          77       1.00      1.00      1.00         9\n",
      "          78       1.00      1.00      1.00         2\n",
      "          80       1.00      1.00      1.00        12\n",
      "          84       1.00      1.00      1.00         8\n",
      "          88       1.00      1.00      1.00         5\n",
      "          90       1.00      1.00      1.00         4\n",
      "          91       1.00      1.00      1.00        12\n",
      "          96       1.00      1.00      1.00        10\n",
      "          98       1.00      1.00      1.00         4\n",
      "         104       1.00      1.00      1.00         6\n",
      "         105       1.00      1.00      1.00         4\n",
      "         112       1.00      1.00      1.00         5\n",
      "         120       1.00      1.00      1.00         1\n",
      "         128       1.00      1.00      1.00         1\n",
      "\n",
      "    accuracy                           1.00      1000\n",
      "   macro avg       1.00      1.00      1.00      1000\n",
      "weighted avg       1.00      1.00      1.00      1000\n",
      "\n"
     ]
    }
   ],
   "source": [
    "from sklearn.metrics import classification_report\n",
    "\n",
    "preds = mod.predict(X_test)\n",
    "\n",
    "print(\"\\nClassification report:\")\n",
    "print(classification_report(y_test, preds))"
   ]
  },
  {
   "cell_type": "markdown",
   "metadata": {},
   "source": [
    "Training a feed-forward network using BERT embeddings."
   ]
  },
  {
   "cell_type": "code",
   "execution_count": null,
   "metadata": {},
   "outputs": [],
   "source": []
  }
 ],
 "metadata": {
  "interpreter": {
   "hash": "23b0dade77de706664b673ec0b749cccbdb5cac5bb41527ce15ce25b9a737383"
  },
  "kernelspec": {
   "display_name": "Python 3.9.12 ('nlu')",
   "language": "python",
   "name": "python3"
  },
  "language_info": {
   "codemirror_mode": {
    "name": "ipython",
    "version": 3
   },
   "file_extension": ".py",
   "mimetype": "text/x-python",
   "name": "python",
   "nbconvert_exporter": "python",
   "pygments_lexer": "ipython3",
   "version": "3.9.12"
  },
  "orig_nbformat": 4
 },
 "nbformat": 4,
 "nbformat_minor": 2
}
